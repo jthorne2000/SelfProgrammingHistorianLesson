{
 "cells": [
  {
   "cell_type": "markdown",
   "id": "932e96ab",
   "metadata": {},
   "source": [
    "# Using Voyant to Analyze a Text\n",
    "-----"
   ]
  },
  {
   "cell_type": "markdown",
   "id": "399ee893",
   "metadata": {},
   "source": [
    "## Getting Started\n",
    "There are lots of different ways to engage with texts in textual and historical analysis. In this lesson, we will go over a basic \n",
    "overview of how to use one tool that can be helpful with digital texts, especially longer ones. This is an online tool called [Voyant](https://voyant-tools.org/). This tool can be used to analyze word occurances, frequencies, and contexts of terms in a given digital text. This can be helpful in comparing findings to Gazetteers and TF-IDF analyses as well as getting a visual representation of a lot of numbers and terms. While the texts do have to be computer readable, it is still an interesting way to get a lot of information quickly and simply in order to aid your reasearch terms and analyses."
   ]
  },
  {
   "cell_type": "markdown",
   "id": "82d36181",
   "metadata": {},
   "source": [
    "### Lesson Goals:\n",
    "This lesson is intended to:\n",
    "> 1. Teach how to upload a text to Voyant\n",
    "> 2. Explore some of the different tools available on Voyant and what they mean\n",
    ">> 1. Cirrus, Terms, & Links\n",
    ">> 2. Summary, Documents, & Phrases\n",
    ">> 3. TermsBerry\n",
    ">> 4. Trends & Document Terms\n",
    ">> 5. Contexts & Collocates\n",
    "> 3. Demonstrate how Voyant can be used in textual and historical analysis"
   ]
  },
  {
   "cell_type": "markdown",
   "id": "1b48ff69",
   "metadata": {},
   "source": [
    "### Prerequisites:\n",
    "No coding experience is necessary for this lesson. You should be comfortable uploading a downloaded file, accessing a file link, or copying and pasting large quantities of text. You will need continued access to the internet to complete this lesson."
   ]
  },
  {
   "cell_type": "markdown",
   "id": "a75dca91",
   "metadata": {},
   "source": [
    "## Uploading Texts\n",
    "In order to take advantage of this tool, it is necessary to have a text that you want to analyze. For the purpose of thisl lesson, I will use Julius Caesar's *De Bello Gallico*, or *The Gallic Wars*, as an example. In this case I copied the text from a [Project Gutenberg](https://www.gutenberg.org/cache/epub/10657/pg10657-images.html) upload of the text. While I could have copied the link to the entire text, I chose to copy and paste the exact text I wanted so that I did not get extra information from the appendices. It is necessary to either copy the link to the entire text you wish to analyze\n",
    "![adding text by link](Voyant_Link.jpeg)\n",
    "or to select, copy, and past the section of text you want to analyze.\n",
    "![adding by text](Voyant_Text.png)"
   ]
  },
  {
   "cell_type": "markdown",
   "id": "9fcd5a8a",
   "metadata": {},
   "source": [
    "## Looking at the Analasis Options"
   ]
  },
  {
   "cell_type": "markdown",
   "id": "10cc55f3",
   "metadata": {},
   "source": [
    "### Cirrus, Terms, & Links:"
   ]
  },
  {
   "cell_type": "markdown",
   "id": "66010012",
   "metadata": {},
   "source": [
    "### Summary, Documents, & Phrases:"
   ]
  },
  {
   "cell_type": "markdown",
   "id": "a6013eaa",
   "metadata": {},
   "source": [
    "### TermsBerry:"
   ]
  },
  {
   "cell_type": "markdown",
   "id": "69c30792",
   "metadata": {},
   "source": [
    "### Trends & Document Terms:"
   ]
  },
  {
   "cell_type": "markdown",
   "id": "26961f81",
   "metadata": {},
   "source": [
    "### Contexts & Collocates:"
   ]
  },
  {
   "cell_type": "markdown",
   "id": "711d5d93",
   "metadata": {},
   "source": [
    "## Textual and Historical Analysis in Action"
   ]
  }
 ],
 "metadata": {
  "language_info": {
   "name": "python"
  }
 },
 "nbformat": 4,
 "nbformat_minor": 5
}
