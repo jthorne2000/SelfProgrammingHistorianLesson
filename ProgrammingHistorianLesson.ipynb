{
 "cells": [
  {
   "cell_type": "markdown",
   "id": "932e96ab",
   "metadata": {},
   "source": [
    "# Using Voyant to Analyze a Text"
   ]
  },
  {
   "cell_type": "markdown",
   "id": "399ee893",
   "metadata": {},
   "source": [
    "## Lesson Goals"
   ]
  },
  {
   "cell_type": "code",
   "execution_count": null,
   "id": "a054f8d3",
   "metadata": {},
   "outputs": [],
   "source": []
  },
  {
   "cell_type": "markdown",
   "id": "82d36181",
   "metadata": {},
   "source": [
    "## Getting Started"
   ]
  },
  {
   "cell_type": "markdown",
   "id": "1b48ff69",
   "metadata": {},
   "source": [
    "## Prerequisites"
   ]
  }
 ],
 "metadata": {
  "language_info": {
   "name": "python"
  }
 },
 "nbformat": 4,
 "nbformat_minor": 5
}
