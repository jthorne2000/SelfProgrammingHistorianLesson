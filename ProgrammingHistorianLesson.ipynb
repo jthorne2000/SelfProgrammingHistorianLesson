{
 "cells": [
  {
   "cell_type": "markdown",
   "id": "932e96ab",
   "metadata": {},
   "source": [
    "# Using Voyant to Analyze a Text\n",
    "-----"
   ]
  },
  {
   "cell_type": "markdown",
   "id": "399ee893",
   "metadata": {},
   "source": [
    "## Getting Started:\n",
    "Hello, this is a test."
   ]
  },
  {
   "cell_type": "markdown",
   "id": "82d36181",
   "metadata": {},
   "source": [
    "### Lesson Goals:\n",
    "This lesson is intended to: \\\n",
    "    1. Teach how to upload a text to Voyant \\\n",
    "    2. Explore some of the different tools available on Voyant and what they mean \\\n",
    "        1. Cirrus, Terms, & Links \\\n",
    "        2. Summary, Documents, & Phrases \\\n",
    "        3. TermsBerry \\\n",
    "        4. Trends & Document Terms \\\n",
    "        5. Contexts & Collocates \\\n",
    "    3. Demonstrate how Voyant can be used in textual and historical analysis"
   ]
  },
  {
   "cell_type": "markdown",
   "id": "1b48ff69",
   "metadata": {},
   "source": [
    "### Prerequisites:"
   ]
  }
 ],
 "metadata": {
  "language_info": {
   "name": "python"
  }
 },
 "nbformat": 4,
 "nbformat_minor": 5
}
