{
 "cells": [
  {
   "cell_type": "markdown",
   "id": "932e96ab",
   "metadata": {},
   "source": [
    "# Using Voyant to Analyze a Text\n",
    "-----"
   ]
  },
  {
   "cell_type": "markdown",
   "id": "399ee893",
   "metadata": {},
   "source": [
    "## Getting Started\n",
    "There are lots of different ways to engage with texts in textual and historical analysis. In this lesson, we will go over a basic \n",
    "overview of how to use one tool that can be helpful with digital texts, especially longer ones. This is an online tool called [Voyant](https://voyant-tools.org/). This tool can be used to analyze word occurances, frequencies, and contexts of terms in a given digital text. This can be helpful in comparing findings to Gazetteers and TF-IDF analyses as well as getting a visual representation of a lot of numbers and terms. While the texts do have to be computer readable, it is still an interesting way to get a lot of information quickly and simply in order to aid your reasearch terms and analyses."
   ]
  },
  {
   "cell_type": "markdown",
   "id": "82d36181",
   "metadata": {},
   "source": [
    "### Lesson Goals:\n",
    "This lesson is intended to:\n",
    "> 1. Teach how to upload a text to Voyant\n",
    "> 2. Explore some of the different tools available on Voyant and what they mean\n",
    ">> 1. Cirrus, Terms, & Links\n",
    ">> 2. Summary, Documents, & Phrases\n",
    ">> 3. TermsBerry\n",
    ">> 4. Trends & Document Terms\n",
    ">> 5. Contexts & Collocates\n",
    "> 3. Demonstrate how Voyant can be used in textual and historical analysis"
   ]
  },
  {
   "cell_type": "markdown",
   "id": "1b48ff69",
   "metadata": {},
   "source": [
    "### Prerequisites:\n",
    "No coding experience is necessary for this lesson. You should be comfortable uploading a downloaded file, accessing a file link, or copying and pasting large quantities of text. You will need continued access to the internet to complete this lesson."
   ]
  },
  {
   "cell_type": "markdown",
   "id": "a75dca91",
   "metadata": {},
   "source": [
    "## Uploading Texts\n",
    "In order to take advantage of this tool, it is necessary to have a text that you want to analyze. For the purpose of thisl lesson, I will use Julius Caesar's *De Bello Gallico*, or *The Gallic Wars*, as an example. In this case I copied the text from a [Project Gutenberg](https://www.gutenberg.org/cache/epub/10657/pg10657-images.html) upload of the text. While I could have copied the link to the entire text, I chose to copy and paste the exact text I wanted so that I did not get extra information from the appendices. It is necessary to either copy the link to the entire text you wish to analyze\n",
    "![adding text by link](Images/Voyant_Link.jpeg)\n",
    "or to select, copy, and past the section of text you want to analyze.\n",
    "![adding by text](Images/Voyant_Text.png)"
   ]
  },
  {
   "cell_type": "markdown",
   "id": "9fcd5a8a",
   "metadata": {},
   "source": [
    "## Looking at the Analysis Options\n",
    "After adding your text, you should see an image that looks something like this:\n",
    "![total screen image](Images/total_screen.png)"
   ]
  },
  {
   "cell_type": "markdown",
   "id": "10cc55f3",
   "metadata": {},
   "source": [
    "### Cirrus, Terms, & Links:\n",
    "#### Cirrus\n",
    "This section shows the most common words in the text in a word cloud image form. The more common the word is, the bigger it appears in the image, and the colors are random. This is a clear, visual way to see which words are the most common,. It is not, however, where you would look for exact numbers or context. In this case, it is clear that 'Caesar' is the most common word, and words such as 'winter' and 'aedui' are likely still common, but a lot less common than 'Caesar'.\n",
    "![cirrus image](Images/wordle.png)\n",
    "#### Terms\n",
    "This section show a list in chart form of all the words in the text, starting with the most common, and along side the count of the term. This is definitely a way to see the exact numbers of each word, but there is no context, and is not ncessarily as easy to see the comparison between words within the text. In this instance, it is clear that 'Caesar,' 'having,' and 'enemy' are the three most common words, along side their exact counts.</p>\n",
    "\n",
    "![terms image](Images/counts.png)\n",
    "#### Links\n",
    "This section shows the most common words, as well as how they are connected visually to other common words found in the text. While it does not show a relative scale of the commonality of the words, it is the first thing so far that shows context between the words. In this example, it shows how the three terms from the previous section connect to other terms in the text. If you hover over one of the terms, then it shows which words it is connected to.\n",
    "![links image](Images/links.png)"
   ]
  },
  {
   "cell_type": "markdown",
   "id": "66010012",
   "metadata": {},
   "source": [
    "### Summary, Documents, & Phrases:\n",
    "#### Summary\n",
    "This section displays an overview of the text that you have uploaded. It included, total words, total unique words, most frequent words, and average words per sentence. WHile this section may not directly contribute to your analysis, it keeps track of what you are analysing. This can be especially useful if you are analysing multiple texts and you need to keep track of them.</p>\n",
    "![summary image](Images/summary_image.png)\n",
    "#### Documents\n",
    "#### Phrases"
   ]
  },
  {
   "cell_type": "markdown",
   "id": "a6013eaa",
   "metadata": {},
   "source": [
    "### TermsBerry:"
   ]
  },
  {
   "cell_type": "markdown",
   "id": "69c30792",
   "metadata": {},
   "source": [
    "### Trends & Document Terms:\n",
    "#### Trends\n",
    "#### Document Terms"
   ]
  },
  {
   "cell_type": "markdown",
   "id": "26961f81",
   "metadata": {},
   "source": [
    "### Contexts & Collocates:\n",
    "#### Contexts\n",
    "#### Collocates"
   ]
  },
  {
   "cell_type": "markdown",
   "id": "711d5d93",
   "metadata": {},
   "source": [
    "## Textual and Historical Analysis in Action"
   ]
  }
 ],
 "metadata": {
  "language_info": {
   "name": "python"
  }
 },
 "nbformat": 4,
 "nbformat_minor": 5
}
